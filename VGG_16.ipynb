{
  "nbformat": 4,
  "nbformat_minor": 0,
  "metadata": {
    "colab": {
      "provenance": [],
      "machine_shape": "hm"
    },
    "kernelspec": {
      "name": "python3",
      "display_name": "Python 3"
    },
    "language_info": {
      "name": "python"
    },
    "accelerator": "GPU",
    "gpuClass": "standard"
  },
  "cells": [
    {
      "cell_type": "code",
      "execution_count": 1,
      "metadata": {
        "colab": {
          "base_uri": "https://localhost:8080/"
        },
        "id": "j0NQ9X-d6v1D",
        "outputId": "fd266a47-b044-4ff8-c35b-947f0577c850"
      },
      "outputs": [
        {
          "output_type": "stream",
          "name": "stdout",
          "text": [
            "Importing libraries completed.\n"
          ]
        }
      ],
      "source": [
        "# importing libraries\n",
        "import numpy as np\n",
        "import matplotlib.pyplot as plt\n",
        "import os\n",
        "import random\n",
        "\n",
        "# Libraries for TensorFlow\n",
        "from tensorflow.keras.utils import to_categorical\n",
        "from tensorflow.keras.preprocessing import image\n",
        "from tensorflow.keras import models, layers\n",
        "\n",
        "# Library for Transfer Learning\n",
        "from tensorflow.keras.applications import VGG16\n",
        "from keras.applications.vgg16 import preprocess_input\n",
        "\n",
        "print(\"Importing libraries completed.\")"
      ]
    },
    {
      "cell_type": "code",
      "source": [
        "# Mount to drive\n",
        "from google.colab import drive\n",
        "drive.mount('/content/drive')\n",
        "\n",
        "import os\n",
        "os.chdir(\"/content/drive/MyDrive/ML-Final-Project/\") # Remember to add this shared folder as shortcut to your own google drive\n",
        "os.getcwd()"
      ],
      "metadata": {
        "colab": {
          "base_uri": "https://localhost:8080/",
          "height": 53
        },
        "id": "sVZgvwcd7yl6",
        "outputId": "dc26ebbe-6e7c-4b31-b083-5ac6f7fca38f"
      },
      "execution_count": 2,
      "outputs": [
        {
          "output_type": "stream",
          "name": "stdout",
          "text": [
            "Mounted at /content/drive\n"
          ]
        },
        {
          "output_type": "execute_result",
          "data": {
            "text/plain": [
              "'/content/drive/.shortcut-targets-by-id/1CdXXOINmvPb172gUSrPGGw2VmjgV5Mmb/ML-Final-Project'"
            ],
            "application/vnd.google.colaboratory.intrinsic+json": {
              "type": "string"
            }
          },
          "metadata": {},
          "execution_count": 2
        }
      ]
    },
    {
      "cell_type": "code",
      "source": [
        "#************Comment this part after data preparation********************\n",
        "import os\n",
        "import numpy as np\n",
        "import shutil\n",
        "# Creating Train / Test folders (One time use)\n",
        "root_dir = \"/content/drive/MyDrive/ML-Final-Project/whole-1000\"\n",
        "root_dir1 = \"/content/drive/MyDrive/ML-Case\"\n",
        "'''\n",
        "if(os.path.exists(root_dir +'/train/')):\n",
        "  shutil.rmtree(root_dir +'/train/')\n",
        "if(os.path.exists(root_dir +'/test/')):\n",
        "  shutil.rmtree(root_dir +'/test/')\n",
        "'''\n",
        "classes = sorted(os.listdir(root_dir))\n",
        "print(classes)\n",
        "'''\n",
        "for i in range(len(classes)):\n",
        "  os.makedirs(root_dir1 +'/train/' + classes[i])\n",
        "  os.makedirs(root_dir1 +'/test/' + classes[i])\n",
        "'''\n",
        "# Creating partitions of the data after shuffeling\n",
        "for i in range(len(classes)):\n",
        "  currentCls = classes[i]\n",
        "  src = root_dir +'/' + currentCls # Folder to copy images from\n",
        "  allFileNames = os.listdir(src)\n",
        "  np.random.shuffle(allFileNames)\n",
        "  train_FileNames, test_FileNames = np.split(np.array(allFileNames),\n",
        "                                                          [int(len(allFileNames)*0.7)])\n",
        "  train_FileNames = [src+'/'+ name for name in train_FileNames.tolist()]\n",
        "  test_FileNames = [src+'/' + name for name in test_FileNames.tolist()]\n",
        "  #print('class: ', classes[i])\n",
        "  #print('Total images: ', len(allFileNames))\n",
        "  #print('Training: ', len(train_FileNames))\n",
        "  #print('Testing: ', len(test_FileNames))\n",
        "  \n",
        "  # Copy-pasting images\n",
        "  for name in train_FileNames:\n",
        "    shutil.copy(name, root_dir1 + \"/train/\" + currentCls)\n",
        "  for name in test_FileNames:\n",
        "    shutil.copy(name, root_dir1 + \"/test/\" + currentCls)\n"
      ],
      "metadata": {
        "id": "iSfvMQ7weFuk",
        "colab": {
          "base_uri": "https://localhost:8080/"
        },
        "outputId": "03fbb480-aec0-4a2d-9e59-dedadbf35ee6"
      },
      "execution_count": null,
      "outputs": [
        {
          "output_type": "stream",
          "name": "stdout",
          "text": [
            "['drawing', 'painting', 'photograph', 'photomechanical print']\n"
          ]
        }
      ]
    },
    {
      "cell_type": "code",
      "source": [
        "# listing the folders containing images\n",
        "\n",
        "# Main Dataset\n",
        "main_folder=\"/content/drive/MyDrive/ML-Case/train\"\n",
        "class_names=os.listdir(main_folder)\n",
        "print(class_names)\n",
        "print(\"\\n\")\n",
        "\n",
        "# Validation Dataset\n",
        "val_class_names = []\n",
        "validation_folder=\"/content/drive/MyDrive/ML-Case/test\"\n",
        "for i in range(len(os.listdir(validation_folder))):\n",
        "  if(os.listdir(validation_folder)[i] != '.DS_Store'):\n",
        "    val_class_names.append(os.listdir(validation_folder)[i])\n",
        "\n",
        "print(val_class_names)"
      ],
      "metadata": {
        "colab": {
          "base_uri": "https://localhost:8080/"
        },
        "id": "bQnKHeO57KM7",
        "outputId": "d814b037-a315-4f88-ac5f-7dac926a8465"
      },
      "execution_count": 3,
      "outputs": [
        {
          "output_type": "stream",
          "name": "stdout",
          "text": [
            "['drawing', 'painting', 'photograph', 'photomechanical print']\n",
            "\n",
            "\n",
            "['drawing', 'painting', 'photograph', 'photomechanical print']\n"
          ]
        }
      ]
    },
    {
      "cell_type": "code",
      "source": [
        "# Preparing Training image data (image array and class name) for processing\n",
        "\n",
        "# Declaring variables\n",
        "x=[] # to store array value of the images\n",
        "y=[] # to store the labels of the images\n",
        "\n",
        "for folder in os.listdir(main_folder):\n",
        "    image_list=os.listdir(main_folder+\"/\"+folder)\n",
        "    for img_name in image_list:\n",
        "        # Loading images\n",
        "        img=image.load_img(main_folder+\"/\"+folder+\"/\"+img_name,target_size=(224,224))\n",
        "        \n",
        "        # Converting to arrary\n",
        "        img=image.img_to_array(img)\n",
        "        \n",
        "        # Transfer Learning: this is to apply preprocess of VGG16 model to our images before passing it to VGG16\n",
        "        img=preprocess_input(img) #  Optional step\n",
        "        \n",
        "        # Appending the arrarys\n",
        "        x.append(img) # appending image array\n",
        "        y.append(class_names.index(folder)) # appending class index to the array\n",
        "    print(\"Complete:\", folder)   \n",
        "print(\"Preparing Training Dataset Completed.\")"
      ],
      "metadata": {
        "colab": {
          "base_uri": "https://localhost:8080/"
        },
        "id": "YhaN7IKB7P5H",
        "outputId": "03b66d01-c83a-49bc-c48c-51f731ce6f91"
      },
      "execution_count": 4,
      "outputs": [
        {
          "output_type": "stream",
          "name": "stdout",
          "text": [
            "Complete: drawing\n",
            "Complete: painting\n",
            "Complete: photograph\n",
            "Complete: photomechanical print\n",
            "Preparing Training Dataset Completed.\n"
          ]
        }
      ]
    },
    {
      "cell_type": "code",
      "source": [
        "# Preparing validation images data (image array and class name) for processing\n",
        "\n",
        "# Declaring variables\n",
        "val_images=[]\n",
        "val_images_Original=[]\n",
        "val_image_label=[] # to store the labels of the images\n",
        "\n",
        "for folder in os.listdir(validation_folder):\n",
        "  if(folder != '.DS_Store'):\n",
        "    image_list=os.listdir(validation_folder+\"/\"+folder)\n",
        "  #print(image_list)\n",
        "    for img_name in image_list:\n",
        "      if(folder != '.DS_Store'):\n",
        "        # Loading images\n",
        "        img=image.load_img(validation_folder+\"/\"+folder+\"/\"+img_name,target_size=(224,224))\n",
        "        \n",
        "        # Converting to arrarys\n",
        "        img=image.img_to_array(img)\n",
        "        \n",
        "        # Saving original images, will be used just for display at the end\n",
        "        val_images_Original.append(img.copy())\n",
        "        \n",
        "        # Transfer Learning: this is to apply preprocess of VGG16 to our images before passing it to VGG16\n",
        "        img=preprocess_input(img) #  Optional step\n",
        "        \n",
        "        # Appending arrays\n",
        "        val_images.append(img) # appending image array\n",
        "        val_image_label.append(val_class_names.index(folder))\n",
        "    print(\"Complete:\", folder)    \n",
        "print(\"Preparing Validation Dataset Completed.\")"
      ],
      "metadata": {
        "colab": {
          "base_uri": "https://localhost:8080/"
        },
        "id": "a14Fpz-z7QbE",
        "outputId": "9127721f-c5ea-4628-f865-f29bcf45771b"
      },
      "execution_count": 5,
      "outputs": [
        {
          "output_type": "stream",
          "name": "stdout",
          "text": [
            "Complete: drawing\n",
            "Complete: painting\n",
            "Complete: photograph\n",
            "Complete: photomechanical print\n",
            "Preparing Validation Dataset Completed.\n"
          ]
        }
      ]
    },
    {
      "cell_type": "code",
      "source": [
        "# Verifying the output\n",
        "\n",
        "# Training Dataset\n",
        "print(\"Training Dataset\")\n",
        "\n",
        "x=np.array(x) # Converting to np arrary to pass to the model\n",
        "print(x.shape)\n",
        "\n",
        "y=to_categorical(y) # onehot encoding of the labels\n",
        "# print(y)\n",
        "print(y.shape)\n",
        "\n",
        "\n",
        "# Validation Dataset\n",
        "print(\"Validation Dataset\")\n",
        "\n",
        "val_images=np.array(val_images) \n",
        "print(val_images.shape)\n",
        "\n",
        "val_image_label=to_categorical(val_image_label) # onehot encoding of the labels)\n",
        "print(val_image_label.shape)"
      ],
      "metadata": {
        "colab": {
          "base_uri": "https://localhost:8080/"
        },
        "id": "4r71Ym-h7Vrn",
        "outputId": "033e7ff4-f96f-4ea4-bbc3-b44c3a4e4b3b"
      },
      "execution_count": 6,
      "outputs": [
        {
          "output_type": "stream",
          "name": "stdout",
          "text": [
            "Training Dataset\n",
            "(2971, 224, 224, 3)\n",
            "(2971, 4)\n",
            "Validation Dataset\n",
            "(1275, 224, 224, 3)\n",
            "(1275, 4)\n"
          ]
        }
      ]
    },
    {
      "cell_type": "code",
      "source": [
        "# Check properties of the model that we are going to use for Transfer Learning\n",
        "print(\"Summary of default VGG16 model.\\n\")\n",
        "\n",
        "# we are using VGG16 for transfer learnin here. \n",
        "from tensorflow.keras.applications import VGG16\n",
        "\n",
        "# initializing model with weights='imagenet'i.e. we are carring its original weights\n",
        "model_vgg16=VGG16(weights='imagenet')\n",
        "\n",
        "# display the summary to see the properties of the model\n",
        "model_vgg16.summary()"
      ],
      "metadata": {
        "colab": {
          "base_uri": "https://localhost:8080/"
        },
        "id": "m_5NDE527Xj_",
        "outputId": "99e137d7-6130-4235-8aac-216c4b596cb4"
      },
      "execution_count": 7,
      "outputs": [
        {
          "output_type": "stream",
          "name": "stdout",
          "text": [
            "Summary of default VGG16 model.\n",
            "\n",
            "Downloading data from https://storage.googleapis.com/tensorflow/keras-applications/vgg16/vgg16_weights_tf_dim_ordering_tf_kernels.h5\n",
            "553467096/553467096 [==============================] - 22s 0us/step\n",
            "Model: \"vgg16\"\n",
            "_________________________________________________________________\n",
            " Layer (type)                Output Shape              Param #   \n",
            "=================================================================\n",
            " input_1 (InputLayer)        [(None, 224, 224, 3)]     0         \n",
            "                                                                 \n",
            " block1_conv1 (Conv2D)       (None, 224, 224, 64)      1792      \n",
            "                                                                 \n",
            " block1_conv2 (Conv2D)       (None, 224, 224, 64)      36928     \n",
            "                                                                 \n",
            " block1_pool (MaxPooling2D)  (None, 112, 112, 64)      0         \n",
            "                                                                 \n",
            " block2_conv1 (Conv2D)       (None, 112, 112, 128)     73856     \n",
            "                                                                 \n",
            " block2_conv2 (Conv2D)       (None, 112, 112, 128)     147584    \n",
            "                                                                 \n",
            " block2_pool (MaxPooling2D)  (None, 56, 56, 128)       0         \n",
            "                                                                 \n",
            " block3_conv1 (Conv2D)       (None, 56, 56, 256)       295168    \n",
            "                                                                 \n",
            " block3_conv2 (Conv2D)       (None, 56, 56, 256)       590080    \n",
            "                                                                 \n",
            " block3_conv3 (Conv2D)       (None, 56, 56, 256)       590080    \n",
            "                                                                 \n",
            " block3_pool (MaxPooling2D)  (None, 28, 28, 256)       0         \n",
            "                                                                 \n",
            " block4_conv1 (Conv2D)       (None, 28, 28, 512)       1180160   \n",
            "                                                                 \n",
            " block4_conv2 (Conv2D)       (None, 28, 28, 512)       2359808   \n",
            "                                                                 \n",
            " block4_conv3 (Conv2D)       (None, 28, 28, 512)       2359808   \n",
            "                                                                 \n",
            " block4_pool (MaxPooling2D)  (None, 14, 14, 512)       0         \n",
            "                                                                 \n",
            " block5_conv1 (Conv2D)       (None, 14, 14, 512)       2359808   \n",
            "                                                                 \n",
            " block5_conv2 (Conv2D)       (None, 14, 14, 512)       2359808   \n",
            "                                                                 \n",
            " block5_conv3 (Conv2D)       (None, 14, 14, 512)       2359808   \n",
            "                                                                 \n",
            " block5_pool (MaxPooling2D)  (None, 7, 7, 512)         0         \n",
            "                                                                 \n",
            " flatten (Flatten)           (None, 25088)             0         \n",
            "                                                                 \n",
            " fc1 (Dense)                 (None, 4096)              102764544 \n",
            "                                                                 \n",
            " fc2 (Dense)                 (None, 4096)              16781312  \n",
            "                                                                 \n",
            " predictions (Dense)         (None, 1000)              4097000   \n",
            "                                                                 \n",
            "=================================================================\n",
            "Total params: 138,357,544\n",
            "Trainable params: 138,357,544\n",
            "Non-trainable params: 0\n",
            "_________________________________________________________________\n"
          ]
        }
      ]
    },
    {
      "cell_type": "code",
      "source": [
        "# Modelling WITH Transfer Learning\n",
        "\n",
        "# Here we will prepare model as per our requirements\n",
        "print(\"Summary of Custom VGG16 model.\\n\")\n",
        "print(\"1) We setup input layer and 2) We removed top (last) layer. \\n\")\n",
        "\n",
        "# let us prepare our input_layer to pass our image size. default is (224,224,3). we will change it to (224,224,3)\n",
        "input_layer=layers.Input(shape=(224,224,3))\n",
        "\n",
        "# initialize the transfer model VGG16 with appropriate properties per our need.\n",
        "# we are passing paramers as following\n",
        "# 1) weights='imagenet' - Using this we are carring weights as of original weights.\n",
        "# 2) input_tensor to pass the VGG16 using input_tensor\n",
        "# 3) we want to change the last layer so we are not including top layer\n",
        "model_vgg16=VGG16(weights='imagenet',input_tensor=input_layer,include_top=False)\n",
        "\n",
        "# See the summary of the model with our properties.\n",
        "model_vgg16.summary()"
      ],
      "metadata": {
        "colab": {
          "base_uri": "https://localhost:8080/"
        },
        "id": "OJEqduEz7YEN",
        "outputId": "b8384ae8-2b7c-455a-f5b7-3adc9a92cccb"
      },
      "execution_count": 8,
      "outputs": [
        {
          "output_type": "stream",
          "name": "stdout",
          "text": [
            "Summary of Custom VGG16 model.\n",
            "\n",
            "1) We setup input layer and 2) We removed top (last) layer. \n",
            "\n",
            "Downloading data from https://storage.googleapis.com/tensorflow/keras-applications/vgg16/vgg16_weights_tf_dim_ordering_tf_kernels_notop.h5\n",
            "58889256/58889256 [==============================] - 3s 0us/step\n",
            "Model: \"vgg16\"\n",
            "_________________________________________________________________\n",
            " Layer (type)                Output Shape              Param #   \n",
            "=================================================================\n",
            " input_2 (InputLayer)        [(None, 224, 224, 3)]     0         \n",
            "                                                                 \n",
            " block1_conv1 (Conv2D)       (None, 224, 224, 64)      1792      \n",
            "                                                                 \n",
            " block1_conv2 (Conv2D)       (None, 224, 224, 64)      36928     \n",
            "                                                                 \n",
            " block1_pool (MaxPooling2D)  (None, 112, 112, 64)      0         \n",
            "                                                                 \n",
            " block2_conv1 (Conv2D)       (None, 112, 112, 128)     73856     \n",
            "                                                                 \n",
            " block2_conv2 (Conv2D)       (None, 112, 112, 128)     147584    \n",
            "                                                                 \n",
            " block2_pool (MaxPooling2D)  (None, 56, 56, 128)       0         \n",
            "                                                                 \n",
            " block3_conv1 (Conv2D)       (None, 56, 56, 256)       295168    \n",
            "                                                                 \n",
            " block3_conv2 (Conv2D)       (None, 56, 56, 256)       590080    \n",
            "                                                                 \n",
            " block3_conv3 (Conv2D)       (None, 56, 56, 256)       590080    \n",
            "                                                                 \n",
            " block3_pool (MaxPooling2D)  (None, 28, 28, 256)       0         \n",
            "                                                                 \n",
            " block4_conv1 (Conv2D)       (None, 28, 28, 512)       1180160   \n",
            "                                                                 \n",
            " block4_conv2 (Conv2D)       (None, 28, 28, 512)       2359808   \n",
            "                                                                 \n",
            " block4_conv3 (Conv2D)       (None, 28, 28, 512)       2359808   \n",
            "                                                                 \n",
            " block4_pool (MaxPooling2D)  (None, 14, 14, 512)       0         \n",
            "                                                                 \n",
            " block5_conv1 (Conv2D)       (None, 14, 14, 512)       2359808   \n",
            "                                                                 \n",
            " block5_conv2 (Conv2D)       (None, 14, 14, 512)       2359808   \n",
            "                                                                 \n",
            " block5_conv3 (Conv2D)       (None, 14, 14, 512)       2359808   \n",
            "                                                                 \n",
            " block5_pool (MaxPooling2D)  (None, 7, 7, 512)         0         \n",
            "                                                                 \n",
            "=================================================================\n",
            "Total params: 14,714,688\n",
            "Trainable params: 14,714,688\n",
            "Non-trainable params: 0\n",
            "_________________________________________________________________\n"
          ]
        }
      ]
    },
    {
      "cell_type": "code",
      "source": [
        "# access the current last layer of the model and add flatten and dense after it\n",
        "print(\"Summary of Custom VGG16 model.\\n\")\n",
        "print(\"1) We flatten the last layer and added 1 Dense layer and 1 output layer.\\n\")\n",
        "\n",
        "last_layer=model_vgg16.output # we are taking last layer of the model\n",
        "\n",
        "# Add flatten layer: we are extending Neural Network by adding flattn layer\n",
        "flatten=layers.Flatten()(last_layer) \n",
        "\n",
        "# Add dense layer\n",
        "# dense1=layers.Dense(100,activation='relu')(flatten)\n",
        "\n",
        "# Add dense layer to the final output layer\n",
        "output_layer=layers.Dense(4,activation='softmax')(flatten)\n",
        "\n",
        "# Creating modle with input and output layer\n",
        "model=models.Model(inputs=input_layer,outputs=output_layer)\n",
        "\n",
        "# Summarize the model\n",
        "model.summary()"
      ],
      "metadata": {
        "colab": {
          "base_uri": "https://localhost:8080/"
        },
        "id": "G-gC6_jS7cgF",
        "outputId": "d460f683-0c38-4420-cc58-f7cb98ce59d2"
      },
      "execution_count": 9,
      "outputs": [
        {
          "output_type": "stream",
          "name": "stdout",
          "text": [
            "Summary of Custom VGG16 model.\n",
            "\n",
            "1) We flatten the last layer and added 1 Dense layer and 1 output layer.\n",
            "\n",
            "Model: \"model\"\n",
            "_________________________________________________________________\n",
            " Layer (type)                Output Shape              Param #   \n",
            "=================================================================\n",
            " input_2 (InputLayer)        [(None, 224, 224, 3)]     0         \n",
            "                                                                 \n",
            " block1_conv1 (Conv2D)       (None, 224, 224, 64)      1792      \n",
            "                                                                 \n",
            " block1_conv2 (Conv2D)       (None, 224, 224, 64)      36928     \n",
            "                                                                 \n",
            " block1_pool (MaxPooling2D)  (None, 112, 112, 64)      0         \n",
            "                                                                 \n",
            " block2_conv1 (Conv2D)       (None, 112, 112, 128)     73856     \n",
            "                                                                 \n",
            " block2_conv2 (Conv2D)       (None, 112, 112, 128)     147584    \n",
            "                                                                 \n",
            " block2_pool (MaxPooling2D)  (None, 56, 56, 128)       0         \n",
            "                                                                 \n",
            " block3_conv1 (Conv2D)       (None, 56, 56, 256)       295168    \n",
            "                                                                 \n",
            " block3_conv2 (Conv2D)       (None, 56, 56, 256)       590080    \n",
            "                                                                 \n",
            " block3_conv3 (Conv2D)       (None, 56, 56, 256)       590080    \n",
            "                                                                 \n",
            " block3_pool (MaxPooling2D)  (None, 28, 28, 256)       0         \n",
            "                                                                 \n",
            " block4_conv1 (Conv2D)       (None, 28, 28, 512)       1180160   \n",
            "                                                                 \n",
            " block4_conv2 (Conv2D)       (None, 28, 28, 512)       2359808   \n",
            "                                                                 \n",
            " block4_conv3 (Conv2D)       (None, 28, 28, 512)       2359808   \n",
            "                                                                 \n",
            " block4_pool (MaxPooling2D)  (None, 14, 14, 512)       0         \n",
            "                                                                 \n",
            " block5_conv1 (Conv2D)       (None, 14, 14, 512)       2359808   \n",
            "                                                                 \n",
            " block5_conv2 (Conv2D)       (None, 14, 14, 512)       2359808   \n",
            "                                                                 \n",
            " block5_conv3 (Conv2D)       (None, 14, 14, 512)       2359808   \n",
            "                                                                 \n",
            " block5_pool (MaxPooling2D)  (None, 7, 7, 512)         0         \n",
            "                                                                 \n",
            " flatten (Flatten)           (None, 25088)             0         \n",
            "                                                                 \n",
            " dense (Dense)               (None, 4)                 100356    \n",
            "                                                                 \n",
            "=================================================================\n",
            "Total params: 14,815,044\n",
            "Trainable params: 14,815,044\n",
            "Non-trainable params: 0\n",
            "_________________________________________________________________\n"
          ]
        }
      ]
    },
    {
      "cell_type": "code",
      "source": [
        "# we will freez all the layers except the last layer\n",
        "\n",
        "# we are making all the layers intrainable except the last layer\n",
        "print(\"We are making all the layers intrainable except the last layer. \\n\")\n",
        "for layer in model.layers[:-1]:\n",
        "    layer.trainable=False\n",
        "model.summary()"
      ],
      "metadata": {
        "colab": {
          "base_uri": "https://localhost:8080/"
        },
        "id": "FpfYtdYu7eeb",
        "outputId": "c7c8b64c-9a2d-4df7-fd2f-5328c524c2e8"
      },
      "execution_count": 10,
      "outputs": [
        {
          "output_type": "stream",
          "name": "stdout",
          "text": [
            "We are making all the layers intrainable except the last layer. \n",
            "\n",
            "Model: \"model\"\n",
            "_________________________________________________________________\n",
            " Layer (type)                Output Shape              Param #   \n",
            "=================================================================\n",
            " input_2 (InputLayer)        [(None, 224, 224, 3)]     0         \n",
            "                                                                 \n",
            " block1_conv1 (Conv2D)       (None, 224, 224, 64)      1792      \n",
            "                                                                 \n",
            " block1_conv2 (Conv2D)       (None, 224, 224, 64)      36928     \n",
            "                                                                 \n",
            " block1_pool (MaxPooling2D)  (None, 112, 112, 64)      0         \n",
            "                                                                 \n",
            " block2_conv1 (Conv2D)       (None, 112, 112, 128)     73856     \n",
            "                                                                 \n",
            " block2_conv2 (Conv2D)       (None, 112, 112, 128)     147584    \n",
            "                                                                 \n",
            " block2_pool (MaxPooling2D)  (None, 56, 56, 128)       0         \n",
            "                                                                 \n",
            " block3_conv1 (Conv2D)       (None, 56, 56, 256)       295168    \n",
            "                                                                 \n",
            " block3_conv2 (Conv2D)       (None, 56, 56, 256)       590080    \n",
            "                                                                 \n",
            " block3_conv3 (Conv2D)       (None, 56, 56, 256)       590080    \n",
            "                                                                 \n",
            " block3_pool (MaxPooling2D)  (None, 28, 28, 256)       0         \n",
            "                                                                 \n",
            " block4_conv1 (Conv2D)       (None, 28, 28, 512)       1180160   \n",
            "                                                                 \n",
            " block4_conv2 (Conv2D)       (None, 28, 28, 512)       2359808   \n",
            "                                                                 \n",
            " block4_conv3 (Conv2D)       (None, 28, 28, 512)       2359808   \n",
            "                                                                 \n",
            " block4_pool (MaxPooling2D)  (None, 14, 14, 512)       0         \n",
            "                                                                 \n",
            " block5_conv1 (Conv2D)       (None, 14, 14, 512)       2359808   \n",
            "                                                                 \n",
            " block5_conv2 (Conv2D)       (None, 14, 14, 512)       2359808   \n",
            "                                                                 \n",
            " block5_conv3 (Conv2D)       (None, 14, 14, 512)       2359808   \n",
            "                                                                 \n",
            " block5_pool (MaxPooling2D)  (None, 7, 7, 512)         0         \n",
            "                                                                 \n",
            " flatten (Flatten)           (None, 25088)             0         \n",
            "                                                                 \n",
            " dense (Dense)               (None, 4)                 100356    \n",
            "                                                                 \n",
            "=================================================================\n",
            "Total params: 14,815,044\n",
            "Trainable params: 100,356\n",
            "Non-trainable params: 14,714,688\n",
            "_________________________________________________________________\n"
          ]
        }
      ]
    },
    {
      "cell_type": "code",
      "source": [
        "# Train the Model\n",
        "from sklearn.model_selection import train_test_split\n",
        "xtrain, xtest, ytrain, ytest = train_test_split(x,y,test_size=0.2,random_state=5)\n",
        "#print(xtrain.size)\n",
        "#print(xtest.size)\n",
        "#print(ytrain.size)\n",
        "#print(ytest.size)\n",
        "\n",
        "print(\"Splitting data for train and test completed.\")"
      ],
      "metadata": {
        "colab": {
          "base_uri": "https://localhost:8080/"
        },
        "id": "80tWIkJx7gKe",
        "outputId": "b4abc24c-5962-436b-d4cd-b84f2b46ab21"
      },
      "execution_count": 11,
      "outputs": [
        {
          "output_type": "stream",
          "name": "stdout",
          "text": [
            "Splitting data for train and test completed.\n"
          ]
        }
      ]
    },
    {
      "cell_type": "markdown",
      "source": [
        "#Case1: lr = 1, batch_size = 64, epoch = 10"
      ],
      "metadata": {
        "id": "zDOT3lfwcShu"
      }
    },
    {
      "cell_type": "code",
      "source": [
        "# Compiling Model\n",
        "from keras.optimizers import Adam\n",
        "opt = Adam(learning_rate=1)\n",
        "model.compile(loss='categorical_crossentropy', optimizer= opt ,metrics=['accuracy'])\n",
        "#model.compile(loss='categorical_crossentropy', optimizer='adam',metrics=['accuracy'])\n",
        "\n",
        "print(\"Model compilation completed.\")"
      ],
      "metadata": {
        "colab": {
          "base_uri": "https://localhost:8080/"
        },
        "id": "it9CGrD47hfK",
        "outputId": "b1869bab-32bf-4cfc-e56a-e382408c2f6f"
      },
      "execution_count": 30,
      "outputs": [
        {
          "output_type": "stream",
          "name": "stdout",
          "text": [
            "Model compilation completed.\n"
          ]
        }
      ]
    },
    {
      "cell_type": "code",
      "source": [
        "# Fit the Model\n",
        "import time\n",
        "time1 = time.time() #timekeeping\n",
        "hist = model.fit(xtrain,ytrain,epochs=10,batch_size=64,verbose=True,validation_data=(xtest,ytest))\n",
        "time2 = time.time() #timekeeping\n",
        "print('ETA of completion:',(time2 - time1)/60,'minutes')\n",
        "print(\"Fitting the model completed.\")"
      ],
      "metadata": {
        "colab": {
          "base_uri": "https://localhost:8080/"
        },
        "id": "ropdgizY7jLb",
        "outputId": "df007388-e386-4485-9052-e09b55f0604e"
      },
      "execution_count": null,
      "outputs": [
        {
          "output_type": "stream",
          "name": "stdout",
          "text": [
            "Epoch 1/10\n",
            "38/38 [==============================] - 28s 446ms/step - loss: 3654.7849 - accuracy: 0.7929 - val_loss: 2786.1016 - val_accuracy: 0.8319\n",
            "Epoch 2/10\n",
            "38/38 [==============================] - 14s 367ms/step - loss: 624.4267 - accuracy: 0.9402 - val_loss: 1910.5244 - val_accuracy: 0.9109\n",
            "Epoch 3/10\n",
            "38/38 [==============================] - 14s 375ms/step - loss: 237.7542 - accuracy: 0.9705 - val_loss: 1568.6307 - val_accuracy: 0.8958\n",
            "Epoch 4/10\n",
            "38/38 [==============================] - 14s 378ms/step - loss: 88.1384 - accuracy: 0.9853 - val_loss: 1658.1042 - val_accuracy: 0.9025\n",
            "Epoch 5/10\n",
            "38/38 [==============================] - 15s 390ms/step - loss: 44.3224 - accuracy: 0.9916 - val_loss: 1383.9395 - val_accuracy: 0.9160\n",
            "Epoch 6/10\n",
            "38/38 [==============================] - 15s 402ms/step - loss: 37.1153 - accuracy: 0.9949 - val_loss: 1386.5697 - val_accuracy: 0.9076\n",
            "Epoch 7/10\n",
            "38/38 [==============================] - 15s 397ms/step - loss: 26.3767 - accuracy: 0.9962 - val_loss: 1630.2015 - val_accuracy: 0.9109\n",
            "Epoch 8/10\n",
            "38/38 [==============================] - 15s 388ms/step - loss: 22.7084 - accuracy: 0.9933 - val_loss: 1552.2660 - val_accuracy: 0.9126\n",
            "Epoch 9/10\n",
            "38/38 [==============================] - 15s 384ms/step - loss: 30.1608 - accuracy: 0.9937 - val_loss: 1729.5801 - val_accuracy: 0.9092\n",
            "Epoch 10/10\n",
            "38/38 [==============================] - 15s 388ms/step - loss: 3.6983 - accuracy: 0.9996 - val_loss: 1857.2380 - val_accuracy: 0.9109\n",
            "ETA of completion: 2.6690149466196695 minutes\n",
            "Fitting the model completed.\n"
          ]
        }
      ]
    },
    {
      "cell_type": "code",
      "source": [
        "# plot learning curve\n",
        "def plot_learning_curve(history):\n",
        "    acc = hist.history['accuracy']\n",
        "    val_acc = hist.history['val_accuracy']\n",
        "    loss = hist.history['loss']\n",
        "    val_loss = hist.history['val_loss']\n",
        "    epochs = range(len(acc))\n",
        "\n",
        "    plt.plot(epochs, acc, label='training acc')\n",
        "    plt.plot(epochs, val_acc, label='validation acc')\n",
        "    plt.legend();\n",
        "    plt.figure();\n",
        "\n",
        "    plt.plot(epochs, loss, label='training loss')\n",
        "    plt.plot(epochs, val_loss, label='validation loss')\n",
        "    plt.legend();\n",
        "\n",
        "plot_learning_curve(hist)"
      ],
      "metadata": {
        "colab": {
          "base_uri": "https://localhost:8080/",
          "height": 513
        },
        "id": "7_-rPjYKOpFD",
        "outputId": "856614f6-727b-4648-ca64-76d94e9d2b92"
      },
      "execution_count": null,
      "outputs": [
        {
          "output_type": "display_data",
          "data": {
            "text/plain": [
              "<Figure size 432x288 with 1 Axes>"
            ],
            "image/png": "[encoded data removed]"
          },
          "metadata": {
            "needs_background": "light"
          }
        },
        {
          "output_type": "display_data",
          "data": {
            "text/plain": [
              "<Figure size 432x288 with 1 Axes>"
            ],
            "image/png": "[encoded data removed]"
          },
          "metadata": {
            "needs_background": "light"
          }
        }
      ]
    },
    {
      "cell_type": "code",
      "source": [
        "#Predict classification results\n",
        "ypred_prob =model.predict(val_images)\n",
        "ypred = np.argmax(ypred_prob,axis=1)"
      ],
      "metadata": {
        "colab": {
          "base_uri": "https://localhost:8080/"
        },
        "id": "scKJbRpoTpIG",
        "outputId": "63b04d74-aaef-4b6f-ab4f-279657bc1549"
      },
      "execution_count": null,
      "outputs": [
        {
          "output_type": "stream",
          "name": "stdout",
          "text": [
            "40/40 [==============================] - 11s 216ms/step\n"
          ]
        }
      ]
    },
    {
      "cell_type": "code",
      "source": [
        "#Final model evaluation\n",
        "truelabels = []\n",
        "predictions = []\n",
        "for i in range(ypred.size):\n",
        "  if(ypred[i] == 0):\n",
        "    predictions.append('drawing')\n",
        "  elif(ypred[i] == 1):\n",
        "    predictions.append('painting')\n",
        "  elif(ypred[i] == 2):\n",
        "    predictions.append('photograph')\n",
        "  else:\n",
        "    predictions.append('photomechanical print')\n",
        "\n",
        "for i in range(int(val_image_label.size/4)):\n",
        "  if(val_image_label[i][0] == 1):\n",
        "    truelabels.append('drawing')\n",
        "  elif(val_image_label[i][1] == 1):\n",
        "    truelabels.append('painting')\n",
        "  elif(val_image_label[i][2] == 1):\n",
        "    truelabels.append('photograph')\n",
        "  elif(val_image_label[i][3] == 1):\n",
        "    truelabels.append('photomechanical print')\n",
        "  \n",
        "#print(truelabels)"
      ],
      "metadata": {
        "id": "fW9q6VnmVZ-p"
      },
      "execution_count": null,
      "outputs": []
    },
    {
      "cell_type": "code",
      "source": [
        "from sklearn.metrics import accuracy_score, confusion_matrix\n",
        "import pandas as pd\n",
        "import seaborn as sns\n",
        "# Plot the confusion matrix\n",
        "cm = confusion_matrix(truelabels, predictions)\n",
        "tick_marks = np.arange(len(class_names))\n",
        "\n",
        "df_cm = pd.DataFrame(cm, index = class_names, columns = class_names)\n",
        "plt.figure(figsize = (7,7))\n",
        "sns.heatmap(df_cm, annot=True, cmap=plt.cm.Blues, fmt='g')\n",
        "plt.xlabel(\"Predicted Shape\", fontsize = 20)\n",
        "plt.ylabel(\"True Shape\", fontsize = 20)\n",
        "plt.show()"
      ],
      "metadata": {
        "colab": {
          "base_uri": "https://localhost:8080/",
          "height": 554
        },
        "id": "fG2o_SUfT9b8",
        "outputId": "3ebaf23c-ac1f-4204-d6a1-eb53609b3e2e"
      },
      "execution_count": null,
      "outputs": [
        {
          "output_type": "display_data",
          "data": {
            "text/plain": [
              "<Figure size 504x504 with 2 Axes>"
            ],
            "image/png": "[encoded data removed]"
          },
          "metadata": {
            "needs_background": "light"
          }
        }
      ]
    },
    {
      "cell_type": "markdown",
      "source": [
        "# Result Evaluation and Discussion - Case 1"
      ],
      "metadata": {
        "id": "FKwmbKSYbwi5"
      }
    },
    {
      "cell_type": "markdown",
      "source": [
        "From above result, we could draw some conclusions:\n",
        " \n",
        "\n",
        "1.   For learning rate = 1 and batch_size = 64, after running 10 epoch, the accuracy for training set is 99.96% and accuracy for validation set is over 91%.\n",
        "2.   VGG-16 could handle this dataset well since the final classification result is well-calibrated."
      ],
      "metadata": {
        "id": "c_zmRmpnaEoF"
      }
    },
    {
      "cell_type": "markdown",
      "source": [
        "# Parameters Tuning"
      ],
      "metadata": {
        "id": "7nIMBJ7vb8HL"
      }
    },
    {
      "cell_type": "markdown",
      "source": [
        "#Case2: lr = 10, batch_size = 30, epoch = 10"
      ],
      "metadata": {
        "id": "XlFAP2n7cVr7"
      }
    },
    {
      "cell_type": "code",
      "source": [
        "# Compiling Model\n",
        "opt = Adam(lr=10)\n",
        "model.compile(loss='categorical_crossentropy', optimizer= opt ,metrics=['accuracy'])\n",
        "#model.compile(loss='categorical_crossentropy', optimizer='adam',metrics=['accuracy'])\n",
        "\n",
        "print(\"Model compilation completed.\")"
      ],
      "metadata": {
        "colab": {
          "base_uri": "https://localhost:8080/"
        },
        "id": "k6nD_HHMcCpJ",
        "outputId": "511d437c-2f30-4f9b-abf7-05a2e81580e9"
      },
      "execution_count": null,
      "outputs": [
        {
          "output_type": "stream",
          "name": "stdout",
          "text": [
            "Model compilation completed.\n"
          ]
        },
        {
          "output_type": "stream",
          "name": "stderr",
          "text": [
            "/usr/local/lib/python3.8/dist-packages/keras/optimizers/optimizer_v2/adam.py:110: UserWarning: The `lr` argument is deprecated, use `learning_rate` instead.\n",
            "  super(Adam, self).__init__(name, **kwargs)\n"
          ]
        }
      ]
    },
    {
      "cell_type": "code",
      "source": [
        "# Fit the Model\n",
        "import time\n",
        "time1 = time.time() #timekeeping\n",
        "hist1 = model.fit(xtrain,ytrain,epochs=10,batch_size=30,verbose=True,validation_data=(xtest,ytest))\n",
        "time2 = time.time() #timekeeping\n",
        "print('ETA of completion:',(time2 - time1)/60,'minutes')\n",
        "print(\"Fitting the model completed.\")"
      ],
      "metadata": {
        "colab": {
          "base_uri": "https://localhost:8080/"
        },
        "id": "i_kLhfY1cjzK",
        "outputId": "1d01f26d-ca31-47c1-f8f8-0aa69bd23d06"
      },
      "execution_count": null,
      "outputs": [
        {
          "output_type": "stream",
          "name": "stdout",
          "text": [
            "Epoch 1/10\n",
            "80/80 [==============================] - 22s 236ms/step - loss: 18112.7891 - accuracy: 0.8754 - val_loss: 21323.3516 - val_accuracy: 0.8807\n",
            "Epoch 2/10\n",
            "80/80 [==============================] - 16s 197ms/step - loss: 12361.7959 - accuracy: 0.9301 - val_loss: 28636.5605 - val_accuracy: 0.8891\n",
            "Epoch 3/10\n",
            "80/80 [==============================] - 15s 193ms/step - loss: 5009.9766 - accuracy: 0.9630 - val_loss: 32987.8125 - val_accuracy: 0.8824\n",
            "Epoch 4/10\n",
            "80/80 [==============================] - 15s 188ms/step - loss: 2145.9749 - accuracy: 0.9798 - val_loss: 28599.2441 - val_accuracy: 0.8924\n",
            "Epoch 5/10\n",
            "80/80 [==============================] - 15s 187ms/step - loss: 1984.5743 - accuracy: 0.9827 - val_loss: 31199.6406 - val_accuracy: 0.9176\n",
            "Epoch 6/10\n",
            "80/80 [==============================] - 15s 189ms/step - loss: 882.8611 - accuracy: 0.9891 - val_loss: 37381.0820 - val_accuracy: 0.8908\n",
            "Epoch 7/10\n",
            "80/80 [==============================] - 15s 192ms/step - loss: 1112.1376 - accuracy: 0.9903 - val_loss: 32327.1875 - val_accuracy: 0.9008\n",
            "Epoch 8/10\n",
            "80/80 [==============================] - 15s 191ms/step - loss: 1462.0559 - accuracy: 0.9886 - val_loss: 33435.4219 - val_accuracy: 0.8975\n",
            "Epoch 9/10\n",
            "80/80 [==============================] - 15s 190ms/step - loss: 371.0627 - accuracy: 0.9962 - val_loss: 32097.4180 - val_accuracy: 0.9076\n",
            "Epoch 10/10\n",
            "80/80 [==============================] - 15s 189ms/step - loss: 687.3497 - accuracy: 0.9920 - val_loss: 37880.7852 - val_accuracy: 0.8857\n",
            "ETA of completion: 3.394772962729136 minutes\n",
            "Fitting the model completed.\n"
          ]
        }
      ]
    },
    {
      "cell_type": "code",
      "source": [
        "plot_learning_curve(hist1)"
      ],
      "metadata": {
        "colab": {
          "base_uri": "https://localhost:8080/",
          "height": 513
        },
        "id": "b4A-aIGTlIpY",
        "outputId": "4e74c481-5f41-458c-cc92-ab1dc7098e16"
      },
      "execution_count": null,
      "outputs": [
        {
          "output_type": "display_data",
          "data": {
            "text/plain": [
              "<Figure size 432x288 with 1 Axes>"
            ],
            "image/png": "[encoded data removed]"
          },
          "metadata": {
            "needs_background": "light"
          }
        },
        {
          "output_type": "display_data",
          "data": {
            "text/plain": [
              "<Figure size 432x288 with 1 Axes>"
            ],
            "image/png": "[encoded data removed]"
          },
          "metadata": {
            "needs_background": "light"
          }
        }
      ]
    },
    {
      "cell_type": "code",
      "source": [
        "ypred_prob =model.predict(val_images)\n",
        "ypred = np.argmax(ypred_prob,axis=1)"
      ],
      "metadata": {
        "colab": {
          "base_uri": "https://localhost:8080/"
        },
        "id": "c_zT3nDgtZSW",
        "outputId": "e14d940b-3c60-467f-91b4-3ffd2d3faf44"
      },
      "execution_count": null,
      "outputs": [
        {
          "output_type": "stream",
          "name": "stdout",
          "text": [
            "40/40 [==============================] - 6s 151ms/step\n"
          ]
        }
      ]
    },
    {
      "cell_type": "code",
      "source": [
        "#Final model evaluation\n",
        "truelabels = []\n",
        "predictions = []\n",
        "for i in range(ypred.size):\n",
        "  if(ypred[i] == 0):\n",
        "    predictions.append('drawing')\n",
        "  elif(ypred[i] == 1):\n",
        "    predictions.append('painting')\n",
        "  elif(ypred[i] == 2):\n",
        "    predictions.append('photograph')\n",
        "  else:\n",
        "    predictions.append('photomechanical print')\n",
        "\n",
        "for i in range(int(val_image_label.size/4)):\n",
        "  if(val_image_label[i][0] == 1):\n",
        "    truelabels.append('drawing')\n",
        "  elif(val_image_label[i][1] == 1):\n",
        "    truelabels.append('painting')\n",
        "  elif(val_image_label[i][2] == 1):\n",
        "    truelabels.append('photograph')\n",
        "  elif(val_image_label[i][3] == 1):\n",
        "    truelabels.append('photomechanical print')\n",
        "\n",
        "\n",
        "# Plot the confusion matrix\n",
        "cm = confusion_matrix(truelabels, predictions)\n",
        "tick_marks = np.arange(len(class_names))\n",
        "\n",
        "df_cm = pd.DataFrame(cm, index = class_names, columns = class_names)\n",
        "plt.figure(figsize = (7,7))\n",
        "sns.heatmap(df_cm, annot=True, cmap=plt.cm.Blues, fmt='g')\n",
        "plt.xlabel(\"Predicted Shape\", fontsize = 20)\n",
        "plt.ylabel(\"True Shape\", fontsize = 20)\n",
        "plt.show()"
      ],
      "metadata": {
        "colab": {
          "base_uri": "https://localhost:8080/",
          "height": 556
        },
        "id": "JXKtytnAtlas",
        "outputId": "51d1c2fe-f202-4be0-a365-d14e9462f57c"
      },
      "execution_count": null,
      "outputs": [
        {
          "output_type": "display_data",
          "data": {
            "text/plain": [
              "<Figure size 504x504 with 2 Axes>"
            ],
            "image/png": "[encoded data removed]"
          },
          "metadata": {
            "needs_background": "light"
          }
        }
      ]
    },
    {
      "cell_type": "markdown",
      "source": [
        "# Result Evaluation and Discussion - Case 2"
      ],
      "metadata": {
        "id": "uoz8UN0Q9rQa"
      }
    },
    {
      "cell_type": "markdown",
      "source": [
        "1.   This is a relative coarse case with a larger learing rate and smaller batch size. Moreover the result is consistent with the parameters setting. To be more specific, the accuracy for training set is 99.2% and accuracy for validation set is over 90%.\n",
        "2.   Within this dataset, for the catalory of \"photograph\", its validation performance is poorer than the rest three catalories relatively. We could calculate that the validation accaracy is: 259/(259+49+17+38) = 71.35%. The reason is that background of \"photograph\" and \"photomechanical print\" are much similar, both of them are light yellow and the resolution for \"photo\" is not as high as \"painting\" and \"drawing\". So this relative low performance is due to intrinsic character and therefore it might be hard to dampen the effect and enhance the validition accuracy.  \n",
        "3.   The latent solution for discussion above might be pre-processing the dataset as extracting principal component for each artpieces. More work will be explained as in \"autoencoder\" part.\n"
      ],
      "metadata": {
        "id": "-Ybe8QnH9ufn"
      }
    }
  ]
}