{
  "nbformat": 4,
  "nbformat_minor": 0,
  "metadata": {
    "colab": {
      "provenance": []
    },
    "kernelspec": {
      "name": "python3",
      "display_name": "Python 3"
    },
    "language_info": {
      "name": "python"
    },
    "accelerator": "GPU",
    "gpuClass": "standard"
  },
  "cells": [
    {
      "cell_type": "code",
      "source": [
        "# Import Packages\n",
        "\n",
        "import numpy as np # linear algebra\n",
        "import pandas as pd # data processing, CSV file I/O (e.g. pd.read_csv)\n",
        "import matplotlib.pyplot as plt\n",
        "from matplotlib import image as mp_image\n",
        "import seaborn as sns\n",
        "\n",
        "# Required magic to display matplotlib plots in notebooks\n",
        "%matplotlib inline\n",
        "\n",
        "from sklearn import metrics\n",
        "from sklearn.metrics import accuracy_score, confusion_matrix\n",
        "from sklearn.model_selection import train_test_split\n",
        "\n",
        "# Input data files are available in the \"../input/\" directory.\n",
        "# For example, running this (by clicking run or pressing Shift+Enter) will list all files under the input directory\n",
        "\n",
        "import os\n",
        "import shutil"
      ],
      "metadata": {
        "id": "QvFuAawMn30B"
      },
      "execution_count": null,
      "outputs": []
    },
    {
      "cell_type": "code",
      "source": [
        "# Import PyTorch libraries\n",
        "import torch\n",
        "import torchvision\n",
        "import torchvision.transforms as transforms\n",
        "import torch.nn as nn\n",
        "import torch.optim as optim\n",
        "import torch.nn.functional as F\n",
        "\n",
        "print(\"Libraries imported - ready to use PyTorch\", torch.__version__)"
      ],
      "metadata": {
        "colab": {
          "base_uri": "https://localhost:8080/"
        },
        "id": "Ntg0uwgjUSJY",
        "outputId": "82ab5267-0e1f-420a-cafe-38bf5a6b5670"
      },
      "execution_count": null,
      "outputs": [
        {
          "output_type": "stream",
          "name": "stdout",
          "text": [
            "Libraries imported - ready to use PyTorch 1.12.1+cu113\n"
          ]
        }
      ]
    },
    {
      "cell_type": "code",
      "source": [
        "# Mount to drive\n",
        "from google.colab import drive\n",
        "drive.mount('/content/drive')\n",
        "\n",
        "import os\n",
        "os.chdir(\"/content/drive/MyDrive/ML-Final-Project/\") # Remember to add this shared folder as shortcut to your own google drive\n",
        "os.getcwd()"
      ],
      "metadata": {
        "colab": {
          "base_uri": "https://localhost:8080/",
          "height": 52
        },
        "id": "BPaXVrO2n6Z_",
        "outputId": "cfbc14b1-337e-4d43-dc1a-ff4c78ea2d99"
      },
      "execution_count": null,
      "outputs": [
        {
          "output_type": "stream",
          "name": "stdout",
          "text": [
            "Drive already mounted at /content/drive; to attempt to forcibly remount, call drive.mount(\"/content/drive\", force_remount=True).\n"
          ]
        },
        {
          "output_type": "execute_result",
          "data": {
            "text/plain": [
              "'/content/drive/MyDrive/ML-Final-Project'"
            ],
            "application/vnd.google.colaboratory.intrinsic+json": {
              "type": "string"
            }
          },
          "metadata": {},
          "execution_count": 14
        }
      ]
    },
    {
      "cell_type": "code",
      "execution_count": null,
      "metadata": {
        "id": "Iyj0mno8nmyb"
      },
      "outputs": [],
      "source": [
        "# Copied from https://www.kaggle.com/code/androbomb/using-cnn-to-classify-images-w-pytorch\n",
        "\n",
        "def load_dataset(data_path):\n",
        "    import torch\n",
        "    import torchvision\n",
        "    import torchvision.transforms as transforms\n",
        "    # Load all the images\n",
        "    transformation = transforms.Compose([\n",
        "        # Randomly augment the image data\n",
        "            # Random horizontal flip\n",
        "        transforms.RandomHorizontalFlip(0.5),\n",
        "            # Random vertical flip\n",
        "        transforms.RandomVerticalFlip(0.3),\n",
        "        # transform to tensors\n",
        "        transforms.ToTensor(),\n",
        "        # Normalize the pixel values (in R, G, and B channels)\n",
        "        transforms.Normalize(mean=[0.5, 0.5, 0.5], std=[0.5, 0.5, 0.5]),\n",
        "        # transforms.RandomCrop((128,128))\n",
        "        transforms.CenterCrop((512,512))\n",
        "    ])\n",
        "\n",
        "    # Load all of the images, transforming them\n",
        "    full_dataset = torchvision.datasets.ImageFolder(\n",
        "        root=data_path,\n",
        "        transform=transformation\n",
        "    )\n",
        "    \n",
        "    \n",
        "    # Split into training (70% and testing (30%) datasets)\n",
        "    train_size = int(0.7 * len(full_dataset))\n",
        "    test_size = len(full_dataset) - train_size\n",
        "    \n",
        "    # use torch.utils.data.random_split for training/test split\n",
        "    train_dataset, test_dataset = torch.utils.data.random_split(full_dataset, [train_size, test_size])\n",
        "    \n",
        "    # define a loader for the training data we can iterate through in 50-image batches\n",
        "    train_loader = torch.utils.data.DataLoader(\n",
        "        train_dataset,\n",
        "        batch_size=128,\n",
        "        num_workers=0,\n",
        "        shuffle=False\n",
        "    )\n",
        "    \n",
        "    # define a loader for the testing data we can iterate through in 50-image batches\n",
        "    test_loader = torch.utils.data.DataLoader(\n",
        "        test_dataset,\n",
        "        batch_size=128,\n",
        "        num_workers=0,\n",
        "        shuffle=False\n",
        "    )\n",
        "        \n",
        "    return train_loader, test_loader\n"
      ]
    },
    {
      "cell_type": "code",
      "source": [
        "# Recall that we have resized the images and saved them into\n",
        "train_folder = 'whole-1000/'\n",
        "\n",
        "# Get the iterative dataloaders for test and training data\n",
        "train_loader, test_loader = load_dataset(train_folder)\n",
        "batch_size = train_loader.batch_size\n",
        "print(\"Data loaders ready to read\", train_folder)"
      ],
      "metadata": {
        "id": "603mppOmn2LF",
        "colab": {
          "base_uri": "https://localhost:8080/"
        },
        "outputId": "b667c9cf-9357-46c1-cd59-7c0aa0d2aa57"
      },
      "execution_count": null,
      "outputs": [
        {
          "output_type": "stream",
          "name": "stdout",
          "text": [
            "Data loaders ready to read whole-1000/\n"
          ]
        }
      ]
    },
    {
      "cell_type": "code",
      "source": [
        "# The images are in a folder named 'input/natural-images/natural_images'\n",
        "training_folder_name = 'whole-1000/'\n",
        "\n",
        "# All images are 128x128 pixels\n",
        "img_size = (512,512)\n",
        "\n",
        "# The folder contains a subfolder for each class of shape\n",
        "classes = sorted(os.listdir(training_folder_name))\n",
        "print(classes)"
      ],
      "metadata": {
        "colab": {
          "base_uri": "https://localhost:8080/"
        },
        "id": "TF6CqdKsUrQc",
        "outputId": "ad3df831-ca76-4de9-a684-7cf1c7a1348a"
      },
      "execution_count": null,
      "outputs": [
        {
          "output_type": "stream",
          "name": "stdout",
          "text": [
            "['drawing', 'painting', 'photograph', 'photomechanical print']\n"
          ]
        }
      ]
    },
    {
      "cell_type": "code",
      "source": [
        "# Model\n",
        "\n",
        "# Create a neural net class\n",
        "class Net(nn.Module):\n",
        "    \n",
        "    \n",
        "    # Defining the Constructor\n",
        "    def __init__(self, num_classes=3):\n",
        "        super(Net, self).__init__()\n",
        "        \n",
        "        # In the init function, we define each layer we will use in our model\n",
        "        \n",
        "        # Our images are RGB, so we have input channels = 3. \n",
        "        # We will apply 12 filters in the first convolutional layer\n",
        "        self.conv1 = nn.Conv2d(in_channels=3, out_channels=12, kernel_size=3, stride=1, padding=1)\n",
        "\n",
        "        self.conv2 = nn.Conv2d(in_channels=12, out_channels=12, kernel_size=3, stride=1, padding=1)\n",
        "        \n",
        "        # A second convolutional layer takes 12 input channels, and generates 24 outputs\n",
        "        self.conv3 = nn.Conv2d(in_channels=12, out_channels=24, kernel_size=3, stride=1, padding=1)\n",
        "        \n",
        "        # We in the end apply max pooling with a kernel size of 2\n",
        "        self.pool = nn.MaxPool2d(kernel_size=2)\n",
        "        \n",
        "        # A drop layer deletes 20% of the features to help prevent overfitting\n",
        "        self.drop = nn.Dropout2d(p=0.2)\n",
        "        \n",
        "        # Our 128x128 image tensors will be pooled twice with a kernel size of 2. 128/2/2 is 32.\n",
        "        # This means that our feature tensors are now 32 x 32, and we've generated 24 of them\n",
        "        \n",
        "        # We need to flatten these in order to feed them to a fully-connected layer\n",
        "        self.fc = nn.Linear(in_features=64 * 64 * 24, out_features=num_classes)\n",
        "\n",
        "    def forward(self, x):\n",
        "        # In the forward function, pass the data through the layers we defined in the init function\n",
        "        x = F.relu(self.pool(self.conv1(x))) \n",
        "        # Use a ReLU activation function after layer 1 (convolution 1 and pool)\n",
        "        x = F.relu(self.pool(self.conv2(x))) \n",
        "        \n",
        "        # Use a ReLU activation function after layer 2\n",
        "        x = F.relu(self.pool(self.conv3(x)))  \n",
        "        \n",
        "        # Select some features to drop to prevent overfitting (only drop during training)\n",
        "        x = F.dropout(self.drop(x), training=self.training)\n",
        "        # Flatten\n",
        "        x = x.view(-1, 64 * 64 * 24)\n",
        "        # Feed to fully-connected layer to predict class\n",
        "        x = self.fc(x)\n",
        "        # Return class probabilities via a log_softmax function \n",
        "        return torch.log_softmax(x, dim=1)\n",
        "    \n",
        "device = \"cpu\"\n",
        "if (torch.cuda.is_available()):\n",
        "    # if GPU available, use cuda (on a cpu, training will take a considerable length of time!)\n",
        "    device = \"cuda\"\n",
        "\n",
        "# Create an instance of the model class and allocate it to the device\n",
        "model = Net(num_classes=len(classes)).to(device)\n",
        "\n",
        "print(model)"
      ],
      "metadata": {
        "id": "Axe1-wYhoRXW",
        "colab": {
          "base_uri": "https://localhost:8080/"
        },
        "outputId": "5d2a45e6-d964-4868-d5da-22ac5a055c33"
      },
      "execution_count": null,
      "outputs": [
        {
          "output_type": "stream",
          "name": "stdout",
          "text": [
            "Net(\n",
            "  (conv1): Conv2d(3, 12, kernel_size=(3, 3), stride=(1, 1), padding=(1, 1))\n",
            "  (conv2): Conv2d(12, 12, kernel_size=(3, 3), stride=(1, 1), padding=(1, 1))\n",
            "  (conv3): Conv2d(12, 24, kernel_size=(3, 3), stride=(1, 1), padding=(1, 1))\n",
            "  (pool): MaxPool2d(kernel_size=2, stride=2, padding=0, dilation=1, ceil_mode=False)\n",
            "  (drop): Dropout2d(p=0.2, inplace=False)\n",
            "  (fc): Linear(in_features=98304, out_features=4, bias=True)\n",
            ")\n"
          ]
        }
      ]
    },
    {
      "cell_type": "code",
      "source": [
        "len(train_loader)"
      ],
      "metadata": {
        "colab": {
          "base_uri": "https://localhost:8080/"
        },
        "id": "1G_bh1fLck44",
        "outputId": "037a32f8-0459-47b0-dcf4-744d35688f19"
      },
      "execution_count": null,
      "outputs": [
        {
          "output_type": "execute_result",
          "data": {
            "text/plain": [
              "24"
            ]
          },
          "metadata": {},
          "execution_count": 19
        }
      ]
    },
    {
      "cell_type": "code",
      "source": [
        "# Train Model\n",
        "\n",
        "def train(model, device, train_loader, optimizer, epoch):\n",
        "    # Set the model to training mode\n",
        "    model.train()\n",
        "    train_loss = 0\n",
        "    print(\"Epoch:\", epoch)\n",
        "    # Process the images in batches\n",
        "    for batch_idx, (data, target) in enumerate(train_loader):\n",
        "        # Use the CPU or GPU as appropriate\n",
        "        # Recall that GPU is optimized for the operations we are dealing with\n",
        "        data, target = data.to(device), target.to(device)\n",
        "        \n",
        "        # Reset the optimizer\n",
        "        optimizer.zero_grad()\n",
        "        \n",
        "        # Push the data forward through the model layers\n",
        "        output = model(data)\n",
        "        \n",
        "        # Get the loss\n",
        "        loss = loss_criteria(output, target)\n",
        "\n",
        "        # Keep a running total\n",
        "        train_loss += loss.item()\n",
        "        \n",
        "        # Backpropagate\n",
        "        loss.backward()\n",
        "        optimizer.step()\n",
        "        \n",
        "        # Print metrics so we see some progress\n",
        "        print('\\tTraining batch {} Loss: {:.6f}'.format(batch_idx + 1, loss.item()))\n",
        "            \n",
        "    # return average loss for the epoch\n",
        "    avg_loss = train_loss / (batch_idx+1)\n",
        "    print('Training set: Average loss: {:.6f}'.format(avg_loss))\n",
        "    return avg_loss"
      ],
      "metadata": {
        "id": "fuwhu8eKoSJS"
      },
      "execution_count": null,
      "outputs": []
    },
    {
      "cell_type": "code",
      "source": [
        "# Test Model\n",
        "\n",
        "def test(model, device, test_loader):\n",
        "    # Switch the model to evaluation mode (so we don't backpropagate or drop)\n",
        "    model.eval()\n",
        "    test_loss = 0\n",
        "    correct = 0\n",
        "    with torch.no_grad():\n",
        "        batch_count = 0\n",
        "        for data, target in test_loader:\n",
        "            batch_count += 1\n",
        "            data, target = data.to(device), target.to(device)\n",
        "            \n",
        "            # Get the predicted classes for this batch\n",
        "            output = model(data)\n",
        "            \n",
        "            # Calculate the loss for this batch\n",
        "            test_loss += loss_criteria(output, target).item()\n",
        "            \n",
        "            # Calculate the accuracy for this batch\n",
        "            _, predicted = torch.max(output.data, 1)\n",
        "            correct += torch.sum(target==predicted).item()\n",
        "\n",
        "    # Calculate the average loss and total accuracy for this epoch\n",
        "    avg_loss = test_loss / batch_count\n",
        "    print('Validation set: Average loss: {:.6f}, Accuracy: {}/{} ({:.0f}%)\\n'.format(\n",
        "        avg_loss, correct, len(test_loader.dataset),\n",
        "        100. * correct / len(test_loader.dataset)))\n",
        "    \n",
        "    # return average loss for the epoch\n",
        "    return avg_loss"
      ],
      "metadata": {
        "id": "7dmX-isYoTbX"
      },
      "execution_count": null,
      "outputs": []
    },
    {
      "cell_type": "code",
      "source": [
        "model = Net(num_classes=len(classes)).to(device)\n",
        "\n",
        "print(model)\n",
        "\n",
        "# Use an \"Adam\" optimizer to adjust weights\n",
        "optimizer = optim.Adam(model.parameters(), lr=0.005)\n",
        "\n",
        "# Specify the loss criteria\n",
        "loss_criteria = nn.CrossEntropyLoss()\n",
        "\n",
        "# Track metrics in these arrays\n",
        "epoch_nums = []\n",
        "training_loss = []\n",
        "validation_loss = []\n",
        "\n",
        "# Train over 10 epochs (We restrict to 10 for time issues)\n",
        "epochs = 10\n",
        "print('Training on', device)\n",
        "for epoch in range(1, epochs + 1):\n",
        "        train_loss = train(model, device, train_loader, optimizer, epoch)\n",
        "        test_loss = test(model, device, test_loader)\n",
        "        epoch_nums.append(epoch)\n",
        "        training_loss.append(train_loss)\n",
        "        validation_loss.append(test_loss)"
      ],
      "metadata": {
        "colab": {
          "base_uri": "https://localhost:8080/"
        },
        "id": "cjWsX3KUU6hA",
        "outputId": "fc82fa60-da78-4c7a-bc8b-7a9cd00bc641"
      },
      "execution_count": null,
      "outputs": [
        {
          "output_type": "stream",
          "name": "stdout",
          "text": [
            "Net(\n",
            "  (conv1): Conv2d(3, 12, kernel_size=(3, 3), stride=(1, 1), padding=(1, 1))\n",
            "  (conv2): Conv2d(12, 12, kernel_size=(3, 3), stride=(1, 1), padding=(1, 1))\n",
            "  (conv3): Conv2d(12, 24, kernel_size=(3, 3), stride=(1, 1), padding=(1, 1))\n",
            "  (pool): MaxPool2d(kernel_size=2, stride=2, padding=0, dilation=1, ceil_mode=False)\n",
            "  (drop): Dropout2d(p=0.2, inplace=False)\n",
            "  (fc): Linear(in_features=98304, out_features=4, bias=True)\n",
            ")\n",
            "Training on cuda\n",
            "Epoch: 1\n",
            "\tTraining batch 1 Loss: 1.385753\n",
            "\tTraining batch 2 Loss: 17.101162\n",
            "\tTraining batch 3 Loss: 7.436772\n",
            "\tTraining batch 4 Loss: 2.929765\n",
            "\tTraining batch 5 Loss: 4.245825\n",
            "\tTraining batch 6 Loss: 3.138424\n",
            "\tTraining batch 7 Loss: 2.090530\n",
            "\tTraining batch 8 Loss: 1.340335\n",
            "\tTraining batch 9 Loss: 1.291250\n",
            "\tTraining batch 10 Loss: 1.296301\n",
            "\tTraining batch 11 Loss: 1.300847\n",
            "\tTraining batch 12 Loss: 1.263668\n",
            "\tTraining batch 13 Loss: 1.192213\n",
            "\tTraining batch 14 Loss: 1.233772\n",
            "\tTraining batch 15 Loss: 1.245943\n",
            "\tTraining batch 16 Loss: 1.291194\n",
            "\tTraining batch 17 Loss: 1.207690\n",
            "\tTraining batch 18 Loss: 1.294137\n",
            "\tTraining batch 19 Loss: 1.224206\n",
            "\tTraining batch 20 Loss: 1.155472\n",
            "\tTraining batch 21 Loss: 1.165833\n",
            "\tTraining batch 22 Loss: 1.174539\n",
            "\tTraining batch 23 Loss: 1.237740\n",
            "\tTraining batch 24 Loss: 0.990024\n",
            "Training set: Average loss: 2.468058\n",
            "Validation set: Average loss: 1.157926, Accuracy: 685/1274 (54%)\n",
            "\n",
            "Epoch: 2\n",
            "\tTraining batch 1 Loss: 1.193324\n",
            "\tTraining batch 2 Loss: 1.228806\n",
            "\tTraining batch 3 Loss: 1.203272\n",
            "\tTraining batch 4 Loss: 1.114748\n",
            "\tTraining batch 5 Loss: 1.196152\n",
            "\tTraining batch 6 Loss: 1.142891\n",
            "\tTraining batch 7 Loss: 1.219496\n",
            "\tTraining batch 8 Loss: 1.187549\n",
            "\tTraining batch 9 Loss: 1.171610\n",
            "\tTraining batch 10 Loss: 1.164742\n",
            "\tTraining batch 11 Loss: 1.252101\n",
            "\tTraining batch 12 Loss: 1.120615\n",
            "\tTraining batch 13 Loss: 1.202064\n",
            "\tTraining batch 14 Loss: 1.148193\n",
            "\tTraining batch 15 Loss: 1.183722\n",
            "\tTraining batch 16 Loss: 1.166275\n",
            "\tTraining batch 17 Loss: 1.152648\n",
            "\tTraining batch 18 Loss: 1.112957\n",
            "\tTraining batch 19 Loss: 1.125985\n",
            "\tTraining batch 20 Loss: 1.116971\n",
            "\tTraining batch 21 Loss: 1.069877\n",
            "\tTraining batch 22 Loss: 1.139865\n",
            "\tTraining batch 23 Loss: 1.198739\n",
            "\tTraining batch 24 Loss: 0.907769\n",
            "Training set: Average loss: 1.155015\n",
            "Validation set: Average loss: 1.131369, Accuracy: 733/1274 (58%)\n",
            "\n",
            "Epoch: 3\n",
            "\tTraining batch 1 Loss: 1.125087\n",
            "\tTraining batch 2 Loss: 1.136115\n",
            "\tTraining batch 3 Loss: 1.141578\n",
            "\tTraining batch 4 Loss: 1.059295\n",
            "\tTraining batch 5 Loss: 1.133580\n",
            "\tTraining batch 6 Loss: 1.101848\n",
            "\tTraining batch 7 Loss: 1.187043\n",
            "\tTraining batch 8 Loss: 1.124420\n",
            "\tTraining batch 9 Loss: 1.166225\n",
            "\tTraining batch 10 Loss: 1.129142\n",
            "\tTraining batch 11 Loss: 1.150096\n",
            "\tTraining batch 12 Loss: 1.052049\n",
            "\tTraining batch 13 Loss: 1.168880\n",
            "\tTraining batch 14 Loss: 1.086511\n",
            "\tTraining batch 15 Loss: 1.129830\n",
            "\tTraining batch 16 Loss: 1.106503\n",
            "\tTraining batch 17 Loss: 1.101482\n",
            "\tTraining batch 18 Loss: 1.086165\n",
            "\tTraining batch 19 Loss: 1.121488\n",
            "\tTraining batch 20 Loss: 1.027762\n",
            "\tTraining batch 21 Loss: 1.020841\n",
            "\tTraining batch 22 Loss: 1.084458\n",
            "\tTraining batch 23 Loss: 1.122264\n",
            "\tTraining batch 24 Loss: 0.857075\n",
            "Training set: Average loss: 1.100822\n",
            "Validation set: Average loss: 1.113593, Accuracy: 673/1274 (53%)\n",
            "\n",
            "Epoch: 4\n",
            "\tTraining batch 1 Loss: 1.133317\n",
            "\tTraining batch 2 Loss: 1.124691\n",
            "\tTraining batch 3 Loss: 1.226832\n",
            "\tTraining batch 4 Loss: 1.021313\n",
            "\tTraining batch 5 Loss: 1.072743\n",
            "\tTraining batch 6 Loss: 1.073397\n",
            "\tTraining batch 7 Loss: 1.128575\n",
            "\tTraining batch 8 Loss: 1.110582\n",
            "\tTraining batch 9 Loss: 1.126882\n",
            "\tTraining batch 10 Loss: 1.045840\n",
            "\tTraining batch 11 Loss: 1.306650\n",
            "\tTraining batch 12 Loss: 1.039276\n",
            "\tTraining batch 13 Loss: 1.097780\n",
            "\tTraining batch 14 Loss: 1.108610\n",
            "\tTraining batch 15 Loss: 1.067751\n",
            "\tTraining batch 16 Loss: 1.035270\n",
            "\tTraining batch 17 Loss: 0.999507\n",
            "\tTraining batch 18 Loss: 1.070165\n",
            "\tTraining batch 19 Loss: 0.999176\n",
            "\tTraining batch 20 Loss: 0.961804\n",
            "\tTraining batch 21 Loss: 0.952410\n",
            "\tTraining batch 22 Loss: 0.909059\n",
            "\tTraining batch 23 Loss: 1.027713\n",
            "\tTraining batch 24 Loss: 0.920730\n",
            "Training set: Average loss: 1.065003\n",
            "Validation set: Average loss: 0.959963, Accuracy: 707/1274 (55%)\n",
            "\n",
            "Epoch: 5\n",
            "\tTraining batch 1 Loss: 0.968792\n",
            "\tTraining batch 2 Loss: 0.952674\n",
            "\tTraining batch 3 Loss: 1.041499\n",
            "\tTraining batch 4 Loss: 0.920815\n",
            "\tTraining batch 5 Loss: 1.034397\n",
            "\tTraining batch 6 Loss: 0.940783\n",
            "\tTraining batch 7 Loss: 1.012910\n",
            "\tTraining batch 8 Loss: 0.988902\n",
            "\tTraining batch 9 Loss: 1.043231\n",
            "\tTraining batch 10 Loss: 0.915942\n",
            "\tTraining batch 11 Loss: 1.024342\n",
            "\tTraining batch 12 Loss: 0.925120\n",
            "\tTraining batch 13 Loss: 1.068436\n",
            "\tTraining batch 14 Loss: 0.897601\n",
            "\tTraining batch 15 Loss: 0.960697\n",
            "\tTraining batch 16 Loss: 0.988969\n",
            "\tTraining batch 17 Loss: 0.915830\n",
            "\tTraining batch 18 Loss: 0.938497\n",
            "\tTraining batch 19 Loss: 0.906303\n",
            "\tTraining batch 20 Loss: 0.909036\n",
            "\tTraining batch 21 Loss: 0.869785\n",
            "\tTraining batch 22 Loss: 0.920636\n",
            "\tTraining batch 23 Loss: 0.954699\n",
            "\tTraining batch 24 Loss: 0.942529\n",
            "Training set: Average loss: 0.960101\n",
            "Validation set: Average loss: 1.011098, Accuracy: 653/1274 (51%)\n",
            "\n",
            "Epoch: 6\n",
            "\tTraining batch 1 Loss: 0.958315\n",
            "\tTraining batch 2 Loss: 1.115818\n",
            "\tTraining batch 3 Loss: 1.123199\n",
            "\tTraining batch 4 Loss: 0.922578\n",
            "\tTraining batch 5 Loss: 0.976925\n",
            "\tTraining batch 6 Loss: 1.007854\n",
            "\tTraining batch 7 Loss: 0.996314\n",
            "\tTraining batch 8 Loss: 0.947267\n",
            "\tTraining batch 9 Loss: 0.999820\n",
            "\tTraining batch 10 Loss: 1.011710\n",
            "\tTraining batch 11 Loss: 1.081106\n",
            "\tTraining batch 12 Loss: 1.016082\n",
            "\tTraining batch 13 Loss: 1.088598\n",
            "\tTraining batch 14 Loss: 0.951049\n",
            "\tTraining batch 15 Loss: 1.045531\n",
            "\tTraining batch 16 Loss: 0.943686\n",
            "\tTraining batch 17 Loss: 0.904744\n",
            "\tTraining batch 18 Loss: 0.962367\n",
            "\tTraining batch 19 Loss: 0.956605\n",
            "\tTraining batch 20 Loss: 0.909483\n",
            "\tTraining batch 21 Loss: 0.899286\n",
            "\tTraining batch 22 Loss: 0.888491\n",
            "\tTraining batch 23 Loss: 0.965791\n",
            "\tTraining batch 24 Loss: 0.991544\n",
            "Training set: Average loss: 0.986007\n",
            "Validation set: Average loss: 0.962054, Accuracy: 716/1274 (56%)\n",
            "\n",
            "Epoch: 7\n",
            "\tTraining batch 1 Loss: 0.912570\n",
            "\tTraining batch 2 Loss: 1.036217\n",
            "\tTraining batch 3 Loss: 1.243653\n",
            "\tTraining batch 4 Loss: 0.971729\n",
            "\tTraining batch 5 Loss: 1.049837\n",
            "\tTraining batch 6 Loss: 0.964616\n",
            "\tTraining batch 7 Loss: 1.010388\n",
            "\tTraining batch 8 Loss: 1.062907\n",
            "\tTraining batch 9 Loss: 1.225885\n",
            "\tTraining batch 10 Loss: 1.032492\n",
            "\tTraining batch 11 Loss: 1.037506\n",
            "\tTraining batch 12 Loss: 1.051437\n",
            "\tTraining batch 13 Loss: 1.083115\n",
            "\tTraining batch 14 Loss: 0.971574\n",
            "\tTraining batch 15 Loss: 0.997555\n",
            "\tTraining batch 16 Loss: 0.953856\n",
            "\tTraining batch 17 Loss: 0.903428\n",
            "\tTraining batch 18 Loss: 0.981159\n",
            "\tTraining batch 19 Loss: 0.940436\n",
            "\tTraining batch 20 Loss: 0.830847\n",
            "\tTraining batch 21 Loss: 0.929160\n",
            "\tTraining batch 22 Loss: 0.822272\n",
            "\tTraining batch 23 Loss: 0.938686\n",
            "\tTraining batch 24 Loss: 0.988807\n",
            "Training set: Average loss: 0.997506\n",
            "Validation set: Average loss: 0.978258, Accuracy: 749/1274 (59%)\n",
            "\n",
            "Epoch: 8\n",
            "\tTraining batch 1 Loss: 0.875152\n",
            "\tTraining batch 2 Loss: 0.958065\n",
            "\tTraining batch 3 Loss: 1.069839\n",
            "\tTraining batch 4 Loss: 0.925173\n",
            "\tTraining batch 5 Loss: 0.940394\n",
            "\tTraining batch 6 Loss: 0.879840\n",
            "\tTraining batch 7 Loss: 0.950740\n",
            "\tTraining batch 8 Loss: 0.965072\n",
            "\tTraining batch 9 Loss: 1.040437\n",
            "\tTraining batch 10 Loss: 0.866140\n",
            "\tTraining batch 11 Loss: 0.964562\n",
            "\tTraining batch 12 Loss: 0.968970\n",
            "\tTraining batch 13 Loss: 1.069147\n",
            "\tTraining batch 14 Loss: 0.862009\n",
            "\tTraining batch 15 Loss: 0.949940\n",
            "\tTraining batch 16 Loss: 0.916159\n",
            "\tTraining batch 17 Loss: 0.897196\n",
            "\tTraining batch 18 Loss: 0.864666\n",
            "\tTraining batch 19 Loss: 0.888858\n",
            "\tTraining batch 20 Loss: 0.904708\n",
            "\tTraining batch 21 Loss: 0.880133\n",
            "\tTraining batch 22 Loss: 0.912601\n",
            "\tTraining batch 23 Loss: 0.916144\n",
            "\tTraining batch 24 Loss: 0.837166\n",
            "Training set: Average loss: 0.929296\n",
            "Validation set: Average loss: 0.915576, Accuracy: 787/1274 (62%)\n",
            "\n",
            "Epoch: 9\n",
            "\tTraining batch 1 Loss: 0.814617\n",
            "\tTraining batch 2 Loss: 0.903719\n",
            "\tTraining batch 3 Loss: 0.910618\n",
            "\tTraining batch 4 Loss: 0.933708\n",
            "\tTraining batch 5 Loss: 0.904600\n",
            "\tTraining batch 6 Loss: 0.855964\n",
            "\tTraining batch 7 Loss: 0.965356\n",
            "\tTraining batch 8 Loss: 0.900160\n",
            "\tTraining batch 9 Loss: 0.964547\n",
            "\tTraining batch 10 Loss: 0.849399\n",
            "\tTraining batch 11 Loss: 0.929902\n",
            "\tTraining batch 12 Loss: 0.922225\n",
            "\tTraining batch 13 Loss: 1.011023\n",
            "\tTraining batch 14 Loss: 0.909323\n",
            "\tTraining batch 15 Loss: 0.960519\n",
            "\tTraining batch 16 Loss: 0.932304\n",
            "\tTraining batch 17 Loss: 0.901795\n",
            "\tTraining batch 18 Loss: 0.850657\n",
            "\tTraining batch 19 Loss: 0.903090\n",
            "\tTraining batch 20 Loss: 0.851067\n",
            "\tTraining batch 21 Loss: 0.840196\n",
            "\tTraining batch 22 Loss: 0.875723\n",
            "\tTraining batch 23 Loss: 0.874955\n",
            "\tTraining batch 24 Loss: 0.941664\n",
            "Training set: Average loss: 0.904464\n",
            "Validation set: Average loss: 0.897859, Accuracy: 790/1274 (62%)\n",
            "\n",
            "Epoch: 10\n",
            "\tTraining batch 1 Loss: 0.892569\n",
            "\tTraining batch 2 Loss: 0.897577\n",
            "\tTraining batch 3 Loss: 1.039839\n",
            "\tTraining batch 4 Loss: 0.868419\n",
            "\tTraining batch 5 Loss: 0.881490\n",
            "\tTraining batch 6 Loss: 0.871073\n",
            "\tTraining batch 7 Loss: 0.879112\n",
            "\tTraining batch 8 Loss: 0.936004\n",
            "\tTraining batch 9 Loss: 0.991191\n",
            "\tTraining batch 10 Loss: 0.870187\n",
            "\tTraining batch 11 Loss: 1.044677\n",
            "\tTraining batch 12 Loss: 0.957972\n",
            "\tTraining batch 13 Loss: 0.976695\n",
            "\tTraining batch 14 Loss: 0.862894\n",
            "\tTraining batch 15 Loss: 1.008324\n",
            "\tTraining batch 16 Loss: 0.905784\n",
            "\tTraining batch 17 Loss: 0.801741\n",
            "\tTraining batch 18 Loss: 0.862382\n",
            "\tTraining batch 19 Loss: 0.867469\n",
            "\tTraining batch 20 Loss: 0.905872\n",
            "\tTraining batch 21 Loss: 0.800431\n",
            "\tTraining batch 22 Loss: 0.807163\n",
            "\tTraining batch 23 Loss: 0.890920\n",
            "\tTraining batch 24 Loss: 0.877740\n",
            "Training set: Average loss: 0.904064\n",
            "Validation set: Average loss: 0.875959, Accuracy: 842/1274 (66%)\n",
            "\n"
          ]
        }
      ]
    },
    {
      "cell_type": "code",
      "source": [
        "plt.figure(figsize=(15,15))\n",
        "plt.plot(epoch_nums, training_loss)\n",
        "plt.plot(epoch_nums, validation_loss)\n",
        "plt.xlabel('epoch')\n",
        "plt.ylabel('loss')\n",
        "plt.legend(['training', 'validation'], loc='upper right')\n",
        "plt.show()"
      ],
      "metadata": {
        "id": "QWdh1-qhU-jw",
        "colab": {
          "base_uri": "https://localhost:8080/",
          "height": 877
        },
        "outputId": "77affce2-0e6e-484d-a3f2-a9e3787ed95e"
      },
      "execution_count": null,
      "outputs": [
        {
          "output_type": "display_data",
          "data": {
            "text/plain": [
              "<Figure size 1080x1080 with 1 Axes>"
            ],
            "image/png": "[encoded data removed]"
          },
          "metadata": {
            "needs_background": "light"
          }
        }
      ]
    },
    {
      "cell_type": "code",
      "source": [
        "# Defining Labels and Predictions\n",
        "truelabels = []\n",
        "predictions = []\n",
        "model.eval()\n",
        "print(\"Getting predictions from test set...\")\n",
        "for data, target in test_loader:\n",
        "    data, target = data.to(device), target.to(device)\n",
        "    for label in target.cpu().data.numpy():\n",
        "        truelabels.append(label)\n",
        "    for prediction in model(data).cpu().data.numpy().argmax(1):\n",
        "        predictions.append(prediction) \n",
        "\n",
        "# Plot the confusion matrix\n",
        "cm = confusion_matrix(truelabels, predictions)\n",
        "tick_marks = np.arange(len(classes))\n",
        "\n",
        "df_cm = pd.DataFrame(cm, index = classes, columns = classes)\n",
        "plt.figure(figsize = (7,7))\n",
        "sns.heatmap(df_cm, annot=True, cmap=plt.cm.Blues, fmt='g')\n",
        "plt.xlabel(\"Predicted Shape\", fontsize = 20)\n",
        "plt.ylabel(\"True Shape\", fontsize = 20)\n",
        "plt.show()"
      ],
      "metadata": {
        "colab": {
          "base_uri": "https://localhost:8080/",
          "height": 571
        },
        "id": "G9_c7maIeAMq",
        "outputId": "b04429da-f5c6-45db-a082-b2e326631ebe"
      },
      "execution_count": null,
      "outputs": [
        {
          "output_type": "stream",
          "name": "stdout",
          "text": [
            "Getting predictions from test set...\n"
          ]
        },
        {
          "output_type": "display_data",
          "data": {
            "text/plain": [
              "<Figure size 504x504 with 2 Axes>"
            ],
            "image/png": "[encoded data removed]"
          },
          "metadata": {
            "needs_background": "light"
          }
        }
      ]
    }
  ]
}